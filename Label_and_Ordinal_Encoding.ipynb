{
 "cells": [
  {
   "cell_type": "markdown",
   "id": "7bca829b",
   "metadata": {},
   "source": [
    "# label Encoding"
   ]
  },
  {
   "cell_type": "code",
   "execution_count": 1,
   "id": "6e8be304",
   "metadata": {},
   "outputs": [],
   "source": [
    "import pandas as pd\n",
    "from sklearn.preprocessing import LabelEncoder"
   ]
  },
  {
   "cell_type": "code",
   "execution_count": 2,
   "id": "acee358a",
   "metadata": {},
   "outputs": [],
   "source": [
    "df = pd.DataFrame({'color':['green','white','blue','green','red']})"
   ]
  },
  {
   "cell_type": "code",
   "execution_count": 3,
   "id": "e5f98355",
   "metadata": {},
   "outputs": [],
   "source": [
    "# create a intance of LabelEncoder\n",
    "labelencoder = LabelEncoder()"
   ]
  },
  {
   "cell_type": "code",
   "execution_count": 4,
   "id": "003bf32f",
   "metadata": {},
   "outputs": [
    {
     "data": {
      "text/plain": [
       "array([1, 3, 0, 1, 2])"
      ]
     },
     "execution_count": 4,
     "metadata": {},
     "output_type": "execute_result"
    }
   ],
   "source": [
    "# fit the data and transforming the categorical values\n",
    "labelencoder.fit_transform(df['color'])"
   ]
  },
  {
   "cell_type": "markdown",
   "id": "323a29f6",
   "metadata": {},
   "source": [
    "# Ordinal Encoding"
   ]
  },
  {
   "cell_type": "code",
   "execution_count": 5,
   "id": "ee688e09",
   "metadata": {},
   "outputs": [],
   "source": [
    "import pandas as pd\n",
    "from sklearn.preprocessing import OrdinalEncoder"
   ]
  },
  {
   "cell_type": "code",
   "execution_count": 6,
   "id": "dd6abd81",
   "metadata": {},
   "outputs": [],
   "source": [
    "df = pd.DataFrame({'size':['small','medium','large','medium','small','large']})"
   ]
  },
  {
   "cell_type": "code",
   "execution_count": 7,
   "id": "18e843e1",
   "metadata": {},
   "outputs": [],
   "source": [
    "encoder = OrdinalEncoder(categories=[['small','medium','large']]) #creating the instance of OrdinalEncoder"
   ]
  },
  {
   "cell_type": "code",
   "execution_count": 9,
   "id": "d8e4b823",
   "metadata": {},
   "outputs": [
    {
     "data": {
      "text/plain": [
       "array([[0.],\n",
       "       [1.],\n",
       "       [2.],\n",
       "       [1.],\n",
       "       [0.],\n",
       "       [2.]])"
      ]
     },
     "execution_count": 9,
     "metadata": {},
     "output_type": "execute_result"
    }
   ],
   "source": [
    "encoder.fit_transform(df[['size']])"
   ]
  },
  {
   "cell_type": "code",
   "execution_count": null,
   "id": "92dd302c",
   "metadata": {},
   "outputs": [],
   "source": []
  }
 ],
 "metadata": {
  "kernelspec": {
   "display_name": "Python 3 (ipykernel)",
   "language": "python",
   "name": "python3"
  },
  "language_info": {
   "codemirror_mode": {
    "name": "ipython",
    "version": 3
   },
   "file_extension": ".py",
   "mimetype": "text/x-python",
   "name": "python",
   "nbconvert_exporter": "python",
   "pygments_lexer": "ipython3",
   "version": "3.9.13"
  }
 },
 "nbformat": 4,
 "nbformat_minor": 5
}
