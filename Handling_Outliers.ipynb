{
 "cells": [
  {
   "cell_type": "markdown",
   "id": "7ee0a626",
   "metadata": {},
   "source": [
    "# Using 5 number summary\n",
    "1.Minimum value\n",
    "2.Q1 : 25 percentile value\n",
    "3.Median : 50 percentile value\n",
    "4.Q3 : 75 percentile value\n",
    "5.Maximum value"
   ]
  },
  {
   "cell_type": "code",
   "execution_count": 8,
   "id": "f2bd62f3",
   "metadata": {},
   "outputs": [],
   "source": [
    "import numpy as np\n",
    "lst_marks = [32,45,67,89,90,54,66,98,100,43]"
   ]
  },
  {
   "cell_type": "code",
   "execution_count": 9,
   "id": "62086c5a",
   "metadata": {},
   "outputs": [
    {
     "data": {
      "text/plain": [
       "(array([32.]), array([47.25]), array([66.5]), array([89.75]), array([100.]))"
      ]
     },
     "execution_count": 9,
     "metadata": {},
     "output_type": "execute_result"
    }
   ],
   "source": [
    "# calculating the percentile\n",
    "min = np.percentile(lst_marks,[0])\n",
    "Q1 = np.percentile(lst_marks,[25])\n",
    "med = np.percentile(lst_marks,[50])\n",
    "Q3 = np.percentile(lst_marks,[75])\n",
    "max = np.percentile(lst_marks,[100])\n",
    "min,Q1,med,Q3,max"
   ]
  },
  {
   "cell_type": "code",
   "execution_count": 10,
   "id": "15809347",
   "metadata": {},
   "outputs": [
    {
     "data": {
      "text/plain": [
       "array([42.5])"
      ]
     },
     "execution_count": 10,
     "metadata": {},
     "output_type": "execute_result"
    }
   ],
   "source": [
    "# calculating the IQR\n",
    "IQR = Q3 - Q1\n",
    "IQR"
   ]
  },
  {
   "cell_type": "code",
   "execution_count": 11,
   "id": "c29d3332",
   "metadata": {},
   "outputs": [
    {
     "data": {
      "text/plain": [
       "(array([-16.5]), array([153.5]))"
      ]
     },
     "execution_count": 11,
     "metadata": {},
     "output_type": "execute_result"
    }
   ],
   "source": [
    "# calcuting the lower_fench and higher_fence\n",
    "lower_fench = Q1 - 1.5 *(IQR)\n",
    "higher_fench = Q3 + 1.5 * (IQR)\n",
    "lower_fench,higher_fench"
   ]
  },
  {
   "cell_type": "markdown",
   "id": "e0d58f06",
   "metadata": {},
   "source": [
    "# By using the boxplot "
   ]
  },
  {
   "cell_type": "code",
   "execution_count": 12,
   "id": "62b1967e",
   "metadata": {},
   "outputs": [
    {
     "name": "stderr",
     "output_type": "stream",
     "text": [
      "C:\\Users\\mohit bhade\\anaconda3\\lib\\site-packages\\seaborn\\_decorators.py:36: FutureWarning: Pass the following variable as a keyword arg: x. From version 0.12, the only valid positional argument will be `data`, and passing other arguments without an explicit keyword will result in an error or misinterpretation.\n",
      "  warnings.warn(\n"
     ]
    },
    {
     "data": {
      "text/plain": [
       "<AxesSubplot:>"
      ]
     },
     "execution_count": 12,
     "metadata": {},
     "output_type": "execute_result"
    },
    {
     "data": {
      "image/png": "[encoded data removed]",
      "text/plain": [
       "<Figure size 640x480 with 1 Axes>"
      ]
     },
     "metadata": {},
     "output_type": "display_data"
    }
   ],
   "source": [
    "# importing the seaborn library to plot boxplot \n",
    "lst_marks = [32,45,67,89,90,54,66,98,100,43]\n",
    "import seaborn as sns\n",
    "sns.boxplot(lst_marks)"
   ]
  },
  {
   "cell_type": "code",
   "execution_count": 13,
   "id": "7b72b18a",
   "metadata": {},
   "outputs": [
    {
     "name": "stderr",
     "output_type": "stream",
     "text": [
      "C:\\Users\\mohit bhade\\anaconda3\\lib\\site-packages\\seaborn\\_decorators.py:36: FutureWarning: Pass the following variable as a keyword arg: x. From version 0.12, the only valid positional argument will be `data`, and passing other arguments without an explicit keyword will result in an error or misinterpretation.\n",
      "  warnings.warn(\n"
     ]
    },
    {
     "data": {
      "text/plain": [
       "<AxesSubplot:>"
      ]
     },
     "execution_count": 13,
     "metadata": {},
     "output_type": "execute_result"
    },
    {
     "data": {
      "image/png": "[encoded data removed]",
      "text/plain": [
       "<Figure size 640x480 with 1 Axes>"
      ]
     },
     "metadata": {},
     "output_type": "display_data"
    }
   ],
   "source": [
    "lst_marks = [32,45,67,89,90,54,66,98,100,43,1000,1200]\n",
    "sns.boxplot(lst_marks)"
   ]
  },
  {
   "cell_type": "code",
   "execution_count": null,
   "id": "d3d17638",
   "metadata": {},
   "outputs": [],
   "source": []
  }
 ],
 "metadata": {
  "kernelspec": {
   "display_name": "Python 3 (ipykernel)",
   "language": "python",
   "name": "python3"
  },
  "language_info": {
   "codemirror_mode": {
    "name": "ipython",
    "version": 3
   },
   "file_extension": ".py",
   "mimetype": "text/x-python",
   "name": "python",
   "nbconvert_exporter": "python",
   "pygments_lexer": "ipython3",
   "version": "3.9.13"
  }
 },
 "nbformat": 4,
 "nbformat_minor": 5
}
